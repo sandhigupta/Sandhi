{
  "nbformat": 4,
  "nbformat_minor": 0,
  "metadata": {
    "colab": {
      "name": "Untitled14.ipynb",
      "provenance": [],
      "authorship_tag": "ABX9TyOS/3zu/t1Na3PheMfWlLKH",
      "include_colab_link": true
    },
    "kernelspec": {
      "name": "python3",
      "display_name": "Python 3"
    },
    "language_info": {
      "name": "python"
    }
  },
  "cells": [
    {
      "cell_type": "markdown",
      "metadata": {
        "id": "view-in-github",
        "colab_type": "text"
      },
      "source": [
        "<a href=\"https://colab.research.google.com/github/sandhigupta/Sandhi/blob/main/datasetgeneration.ipynb\" target=\"_parent\"><img src=\"https://colab.research.google.com/assets/colab-badge.svg\" alt=\"Open In Colab\"/></a>"
      ]
    },
    {
      "cell_type": "code",
      "execution_count": 5,
      "metadata": {
        "id": "ZM2DvrNJTfsK"
      },
      "outputs": [],
      "source": [
        "import numpy as np"
      ]
    },
    {
      "cell_type": "code",
      "source": [
        "f1 = np.random.normal(1, 0.2, 50000)\n",
        "f2 = np.random.normal(20, 1, 50000)\n",
        "f3 = np.random.random(50000)\n",
        "f4 = np.random.normal(50, 30, 50000)\n",
        "f5 = np.random.normal(2, 0.15, 50000)\n",
        "f6 = np.random.exponential(2, 50000)\n",
        "f7 = np.random.normal(0.04, 0.006, 50000)\n",
        "f8 = np.random.normal(4, 0.03, 50000)\n",
        "f9 = np.random.normal(15, 7, 50000)\n",
        "f10 = np.random.normal(56, 12.5, 50000)\n",
        "f11 = np.random.beta(5, 4, 50000)\n",
        "f12 = f11 = np.random.beta(10, 2, 50000)\n",
        "f13 = np.random.normal(-4, 0.05, 50000)\n",
        "f14 = np.random.random(50000)\n",
        "f15 = np.random.normal(45, 23, 50000)\n",
        "f16 = np.random.normal(89, 14, 50000)\n",
        "f17 = np.random.random(50000)\n",
        "f18 = np.random.normal(150, 34, 50000)\n",
        "f19 = np.random.normal(2, 0.5, 50000)\n",
        "f20 = np.random.exponential(10, 50000)"
      ],
      "metadata": {
        "id": "28mVRRccTq1S"
      },
      "execution_count": 6,
      "outputs": []
    },
    {
      "cell_type": "code",
      "source": [
        "all = []"
      ],
      "metadata": {
        "id": "9PfTcAZqTrCI"
      },
      "execution_count": 7,
      "outputs": []
    },
    {
      "cell_type": "code",
      "source": [
        "for i in range(20):\n",
        "  all.append(globals()[f\"f{i+1}\"])"
      ],
      "metadata": {
        "id": "CUC_WWu1TrDs"
      },
      "execution_count": 8,
      "outputs": []
    },
    {
      "cell_type": "code",
      "source": [
        "all = np.array(all)\n",
        "features = all.transpose()"
      ],
      "metadata": {
        "id": "20eVBucBTrHC"
      },
      "execution_count": 9,
      "outputs": []
    },
    {
      "cell_type": "code",
      "source": [
        "labels = [0 for i in range(len(features))]\n",
        "len(features)"
      ],
      "metadata": {
        "colab": {
          "base_uri": "https://localhost:8080/"
        },
        "id": "dwhk3KGLULj1",
        "outputId": "05f9bd90-a6ca-4448-e884-ce069865684c"
      },
      "execution_count": 11,
      "outputs": [
        {
          "output_type": "execute_result",
          "data": {
            "text/plain": [
              "50000"
            ]
          },
          "metadata": {},
          "execution_count": 11
        }
      ]
    },
    {
      "cell_type": "code",
      "source": [
        "len(labels)"
      ],
      "metadata": {
        "colab": {
          "base_uri": "https://localhost:8080/"
        },
        "id": "THK0yDBDUPWV",
        "outputId": "96ce1fa6-76af-483a-a17f-a56518cc3613"
      },
      "execution_count": 12,
      "outputs": [
        {
          "output_type": "execute_result",
          "data": {
            "text/plain": [
              "50000"
            ]
          },
          "metadata": {},
          "execution_count": 12
        }
      ]
    }
  ]
}