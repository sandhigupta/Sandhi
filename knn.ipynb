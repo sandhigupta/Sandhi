{
  "nbformat": 4,
  "nbformat_minor": 0,
  "metadata": {
    "colab": {
      "name": "Untitled12.ipynb",
      "provenance": [],
      "authorship_tag": "ABX9TyMET6uQtRwuoFrUyvwRlSji",
      "include_colab_link": true
    },
    "kernelspec": {
      "name": "python3",
      "display_name": "Python 3"
    },
    "language_info": {
      "name": "python"
    }
  },
  "cells": [
    {
      "cell_type": "markdown",
      "metadata": {
        "id": "view-in-github",
        "colab_type": "text"
      },
      "source": [
        "<a href=\"https://colab.research.google.com/github/sandhigupta/Sandhi/blob/main/knn.ipynb\" target=\"_parent\"><img src=\"https://colab.research.google.com/assets/colab-badge.svg\" alt=\"Open In Colab\"/></a>"
      ]
    },
    {
      "cell_type": "code",
      "execution_count": 20,
      "metadata": {
        "id": "PXbayFHdwNz5"
      },
      "outputs": [],
      "source": [
        "import numpy as np\n",
        "import pandas as pd\n",
        "from sklearn.model_selection import train_test_split\n",
        "from sklearn.preprocessing import StandardScaler\n",
        "from sklearn.neighbors import KNeighborsClassifier\n",
        "from sklearn.metrics import accuracy_score"
      ]
    },
    {
      "cell_type": "code",
      "source": [
        "def generateDataSet(num_features, readings):\n",
        "  data_set = []\n",
        "  for i in range(num_features):\n",
        "    thresh = np.random.random()\n",
        "    if thresh < 0.26:\n",
        "      data_set.append(list(np.random.normal(20, 2, readings)))\n",
        "    elif 0.51 > thresh >= 0.26:\n",
        "      data_set.append(list(np.random.exponential(10, readings)))\n",
        "    elif 0.76 > thresh >= 0.51:\n",
        "      data_set.append(list(np.random.random(readings)))\n",
        "    else:\n",
        "      data_set.append(list(np.random.beta(5, 4, readings)))\n",
        "  return (np.array(data_set).transpose(), np.array([0 for i in range(readings)]))"
      ],
      "metadata": {
        "id": "zfQ0PGHEwe_b"
      },
      "execution_count": 21,
      "outputs": []
    },
    {
      "cell_type": "code",
      "source": [
        "def inject(data, mean, std):\n",
        "  features = [list(i) for i in data[0]]\n",
        "  labels = list(data[1])\n",
        "  for i in range(len(features)):\n",
        "    if np.random.random() < 0.3333:\n",
        "      values_to_inject = np.random.normal(mean, std, len(features[0]))\n",
        "      features[i] = [a - b for a, b in zip(features[i], values_to_inject)]\n",
        "      labels[i] += 1\n",
        "  return (np.array(features), np.array(labels))"
      ],
      "metadata": {
        "id": "5dJ0JHb1wfGo"
      },
      "execution_count": 22,
      "outputs": []
    },
    {
      "cell_type": "code",
      "source": [
        "def dos(data, scale=50):\n",
        "  features, labels = list(data[0]), list(data[1])\n",
        "  for i in range(len(features)):\n",
        "    if np.random.random() < 0.3333:\n",
        "      to_send = list(np.random.random(len(features[0]))*scale)\n",
        "      features.insert(i, to_send)\n",
        "      labels.insert(i, 2)\n",
        "  return (np.array(features), np.array(labels))"
      ],
      "metadata": {
        "id": "mUVeBADGwfIa"
      },
      "execution_count": 23,
      "outputs": []
    },
    {
      "cell_type": "code",
      "source": [
        "dos_fdia_data = dos(inject(generateDataSet(11, 50), 5, 2))"
      ],
      "metadata": {
        "id": "9YE5EyruwfK6"
      },
      "execution_count": 24,
      "outputs": []
    },
    {
      "cell_type": "code",
      "source": [
        "X_train, X_test, y_train, y_test = train_test_split(dos_fdia_data[0], dos_fdia_data[1], test_size=0.3, random_state=5, shuffle=True)"
      ],
      "metadata": {
        "id": "C50SE9OpwfOi"
      },
      "execution_count": 25,
      "outputs": []
    },
    {
      "cell_type": "code",
      "source": [
        "scaler = StandardScaler()\n",
        "X_train = scaler.fit_transform(X_train)\n",
        "X_test = scaler.transform(X_test)"
      ],
      "metadata": {
        "id": "-d-Fho7nwfXV"
      },
      "execution_count": 26,
      "outputs": []
    },
    {
      "cell_type": "code",
      "source": [
        "knn_model = KNeighborsClassifier()\n",
        "knn_model.fit(X_train, y_train.ravel())"
      ],
      "metadata": {
        "colab": {
          "base_uri": "https://localhost:8080/"
        },
        "id": "CwYmHNynxZvA",
        "outputId": "27eae7db-78f2-4280-a829-3589a0b874a9"
      },
      "execution_count": 27,
      "outputs": [
        {
          "output_type": "execute_result",
          "data": {
            "text/plain": [
              "KNeighborsClassifier()"
            ]
          },
          "metadata": {},
          "execution_count": 27
        }
      ]
    },
    {
      "cell_type": "code",
      "source": [
        "knn_predictions = knn_model.predict(X_test)\n",
        "print(f\"Accuracy of KNN: {round(accuracy_score(y_test, knn_predictions)*100)}%\")"
      ],
      "metadata": {
        "colab": {
          "base_uri": "https://localhost:8080/"
        },
        "id": "okxwOagNxZx7",
        "outputId": "c2612f83-3b87-4f01-d38f-256acb26c0d4"
      },
      "execution_count": 28,
      "outputs": [
        {
          "output_type": "stream",
          "name": "stdout",
          "text": [
            "Accuracy of KNN: 95%\n"
          ]
        }
      ]
    },
    {
      "cell_type": "code",
      "source": [
        "print(y_test)\n",
        "print(knn_predictions)"
      ],
      "metadata": {
        "colab": {
          "base_uri": "https://localhost:8080/"
        },
        "id": "y5Ls6qsrxZ3T",
        "outputId": "dde78e4a-1625-48f5-f2de-1704bc705e06"
      },
      "execution_count": 29,
      "outputs": [
        {
          "output_type": "stream",
          "name": "stdout",
          "text": [
            "[2 2 0 1 1 0 0 1 2 1 2 1 0 0 0 1 2 1 1 0 2]\n",
            "[2 2 0 1 1 0 0 1 2 1 2 0 0 0 0 1 2 1 1 0 2]\n"
          ]
        }
      ]
    },
    {
      "cell_type": "code",
      "source": [
        "df = pd.read_csv(r'LoadMinPower.csv')\n",
        "\n",
        "df.drop(df.columns[[0,1]], axis=1, inplace=True)\n",
        "injection = inject((df.to_numpy(), [0 for i in range(len(df))]), 5, 0.5)\n",
        "features, labels = injection[0], injection[1]"
      ],
      "metadata": {
        "id": "r2OBc8JcxZ93"
      },
      "execution_count": 30,
      "outputs": []
    },
    {
      "cell_type": "code",
      "source": [
        "np.savetxt('max_features.csv', features, delimiter=',')\n",
        "np.savetxt('max_labels.csv', labels, delimiter=',')\n",
        "max_features = np.array(pd.read_csv('max_features.csv'))\n",
        "max_labels = np.array(pd.read_csv('max_labels.csv')).astype(int)"
      ],
      "metadata": {
        "id": "cxvp8jEwyBq6"
      },
      "execution_count": 31,
      "outputs": []
    },
    {
      "cell_type": "code",
      "source": [
        "features = np.array(pd.read_csv(r'max_features.csv', sep=',', header=0))\n",
        "labels = np.array(pd.read_csv(r'max_labels.csv', sep=',', header=0)).flatten().astype(int)"
      ],
      "metadata": {
        "id": "D3Uzxzv2yBsw"
      },
      "execution_count": 32,
      "outputs": []
    },
    {
      "cell_type": "code",
      "source": [
        "load_min_tuple = dos((features, labels))\n",
        "features, labels = load_min_tuple[0], load_min_tuple[1]"
      ],
      "metadata": {
        "id": "u4Ge9a02yBup"
      },
      "execution_count": 33,
      "outputs": []
    },
    {
      "cell_type": "code",
      "source": [
        "len(labels)"
      ],
      "metadata": {
        "colab": {
          "base_uri": "https://localhost:8080/"
        },
        "id": "RewV8MCvyByW",
        "outputId": "8a8e41db-c987-431e-89e9-4b8811d187c5"
      },
      "execution_count": 34,
      "outputs": [
        {
          "output_type": "execute_result",
          "data": {
            "text/plain": [
              "23353"
            ]
          },
          "metadata": {},
          "execution_count": 34
        }
      ]
    },
    {
      "cell_type": "code",
      "source": [
        "min_preds = knn_model.predict(features)\n",
        "print(len(min_preds))\n",
        "print(f\"Accuracy of KNN on LoadMinSupply: {round(accuracy_score(labels, min_preds), 2)*100}%\")"
      ],
      "metadata": {
        "colab": {
          "base_uri": "https://localhost:8080/"
        },
        "id": "pcVj0YNyyNqh",
        "outputId": "368b1108-0932-4880-c33d-44a05ed3bdca"
      },
      "execution_count": 35,
      "outputs": [
        {
          "output_type": "stream",
          "name": "stdout",
          "text": [
            "23353\n",
            "Accuracy of KNN on LoadMinSupply: 54.0%\n"
          ]
        }
      ]
    }
  ]
}