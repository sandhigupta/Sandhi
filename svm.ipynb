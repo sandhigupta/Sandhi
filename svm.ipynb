{
  "nbformat": 4,
  "nbformat_minor": 0,
  "metadata": {
    "colab": {
      "name": "Untitled13.ipynb",
      "provenance": [],
      "collapsed_sections": [],
      "authorship_tag": "ABX9TyM8g90Kq7GbsK/xtNYkwQBr",
      "include_colab_link": true
    },
    "kernelspec": {
      "name": "python3",
      "display_name": "Python 3"
    },
    "language_info": {
      "name": "python"
    }
  },
  "cells": [
    {
      "cell_type": "markdown",
      "metadata": {
        "id": "view-in-github",
        "colab_type": "text"
      },
      "source": [
        "<a href=\"https://colab.research.google.com/github/sandhigupta/Sandhi/blob/main/svm.ipynb\" target=\"_parent\"><img src=\"https://colab.research.google.com/assets/colab-badge.svg\" alt=\"Open In Colab\"/></a>"
      ]
    },
    {
      "cell_type": "code",
      "execution_count": 77,
      "metadata": {
        "id": "AQ_H4nty6UAT"
      },
      "outputs": [],
      "source": [
        "import numpy as np\n",
        "import pandas as pd\n",
        "from sklearn.model_selection import train_test_split\n",
        "from sklearn.preprocessing import StandardScaler\n",
        "from sklearn.svm import SVC\n",
        "from sklearn.metrics import accuracy_score"
      ]
    },
    {
      "cell_type": "code",
      "source": [
        "def generateDataSet(num_features, readings):\n",
        "  data_set = []\n",
        "  for i in range(num_features):\n",
        "    thresh = np.random.random()\n",
        "    if thresh < 0.26:\n",
        "      data_set.append(list(np.random.normal(20, 2, readings)))\n",
        "    elif 0.51 > thresh >= 0.26:\n",
        "      data_set.append(list(np.random.exponential(10, readings)))\n",
        "    elif 0.76 > thresh >= 0.51:\n",
        "      data_set.append(list(np.random.random(readings)))\n",
        "    else:\n",
        "      data_set.append(list(np.random.beta(5, 4, readings)))\n",
        "  return (np.array(data_set).transpose(), np.array([0 for i in range(readings)]))"
      ],
      "metadata": {
        "id": "q1U0bmwP6Xm1"
      },
      "execution_count": 78,
      "outputs": []
    },
    {
      "cell_type": "code",
      "source": [
        "def inject(data, mean, std):\n",
        "  features = [list(i) for i in data[0]]\n",
        "  labels = list(data[1])\n",
        "  for i in range(len(features)):\n",
        "    if np.random.random() < 0.3333:\n",
        "      values_to_inject = np.random.normal(mean, std, len(features[0]))\n",
        "      features[i] = [a - b for a, b in zip(features[i], values_to_inject)]\n",
        "      labels[i] += 1\n",
        "  return (np.array(features), np.array(labels))"
      ],
      "metadata": {
        "id": "vcjxRUxM6Xol"
      },
      "execution_count": 79,
      "outputs": []
    },
    {
      "cell_type": "code",
      "source": [
        "def dos(data, scale=50):\n",
        "  features, labels = list(data[0]), list(data[1])\n",
        "  for i in range(len(features)):\n",
        "    if np.random.random() < 0.3333:\n",
        "      to_send = list(np.random.random(len(features[0]))*scale)\n",
        "      features.insert(i, to_send)\n",
        "      labels.insert(i, 2)\n",
        "  return (np.array(features), np.array(labels))"
      ],
      "metadata": {
        "id": "h67LXx5M6Xr-"
      },
      "execution_count": 80,
      "outputs": []
    },
    {
      "cell_type": "code",
      "source": [
        "dos_fdia_data = dos(inject(generateDataSet(11, 50), 5, 2))"
      ],
      "metadata": {
        "id": "eaakWNL_6X2Y"
      },
      "execution_count": 81,
      "outputs": []
    },
    {
      "cell_type": "code",
      "source": [
        "X_train, X_test, y_train, y_test = train_test_split(dos_fdia_data[0], dos_fdia_data[1], test_size=0.3, random_state=5, shuffle=True)"
      ],
      "metadata": {
        "id": "acxEdyID6X4i"
      },
      "execution_count": 82,
      "outputs": []
    },
    {
      "cell_type": "code",
      "source": [
        "scaler = StandardScaler()\n",
        "X_train = scaler.fit_transform(X_train)\n",
        "X_test = scaler.transform(X_test)"
      ],
      "metadata": {
        "id": "yRMsqH6e6X5-"
      },
      "execution_count": 83,
      "outputs": []
    },
    {
      "cell_type": "code",
      "source": [
        "svm = SVC()\n",
        "svm.fit(X_train, y_train.ravel())"
      ],
      "metadata": {
        "colab": {
          "base_uri": "https://localhost:8080/"
        },
        "id": "x8fU_rv36X9b",
        "outputId": "9c40c762-70c3-46fa-df20-af01980e335e"
      },
      "execution_count": 84,
      "outputs": [
        {
          "output_type": "execute_result",
          "data": {
            "text/plain": [
              "SVC()"
            ]
          },
          "metadata": {},
          "execution_count": 84
        }
      ]
    },
    {
      "cell_type": "code",
      "source": [
        "svm_predictions = svm.predict(X_test)\n",
        "print(f\"Accuracy of SVM: {round(accuracy_score(y_test, svm_predictions)*100)}%\")"
      ],
      "metadata": {
        "colab": {
          "base_uri": "https://localhost:8080/"
        },
        "id": "-k-hjslm6wod",
        "outputId": "1769f709-0b98-40da-d503-5f0778d7250a"
      },
      "execution_count": 85,
      "outputs": [
        {
          "output_type": "stream",
          "name": "stdout",
          "text": [
            "Accuracy of SVM: 95%\n"
          ]
        }
      ]
    },
    {
      "cell_type": "code",
      "source": [
        "print(y_test)\n",
        "print(svm_predictions)"
      ],
      "metadata": {
        "colab": {
          "base_uri": "https://localhost:8080/"
        },
        "id": "HnvxJa1X7J1x",
        "outputId": "0a4e1f75-87bc-4118-e45e-bd1277fea30c"
      },
      "execution_count": 86,
      "outputs": [
        {
          "output_type": "stream",
          "name": "stdout",
          "text": [
            "[1 2 2 0 1 0 0 2 2 1 2 0 1 0 0 1 1 1 0 0 2]\n",
            "[1 2 2 0 1 0 0 2 2 1 2 0 1 0 0 1 1 1 1 0 2]\n"
          ]
        }
      ]
    },
    {
      "cell_type": "code",
      "source": [
        "df = pd.read_csv(r'LoadMinPower.csv')\n",
        "df.drop(df.columns[[0,1]], axis=1, inplace=True)\n",
        "injection = inject((df.to_numpy(), [0 for i in range(len(df))]), 5, 0.5)\n",
        "features, labels = injection[0], injection[1]"
      ],
      "metadata": {
        "id": "6rMQdEjN7J3i"
      },
      "execution_count": 87,
      "outputs": []
    },
    {
      "cell_type": "code",
      "source": [
        "np.savetxt('max_features.csv', features, delimiter=',')\n",
        "np.savetxt('max_labels.csv', labels, delimiter=',')\n",
        "max_features = np.array(pd.read_csv('max_features.csv'))\n",
        "max_labels = np.array(pd.read_csv('max_labels.csv')).astype(int)"
      ],
      "metadata": {
        "id": "lW286RQG7J5N"
      },
      "execution_count": 88,
      "outputs": []
    },
    {
      "cell_type": "code",
      "source": [
        "features = np.array(pd.read_csv(r'max_features.csv', sep=',', header=0))\n",
        "labels = np.array(pd.read_csv(r'max_labels.csv', sep=',', header=0)).flatten().astype(int)"
      ],
      "metadata": {
        "id": "P5A9sv-B7J7N"
      },
      "execution_count": 89,
      "outputs": []
    },
    {
      "cell_type": "code",
      "source": [
        "load_min_tuple = dos((features, labels))\n",
        "features, labels = load_min_tuple[0], load_min_tuple[1]"
      ],
      "metadata": {
        "id": "TphyklHe7J9T"
      },
      "execution_count": 90,
      "outputs": []
    },
    {
      "cell_type": "code",
      "source": [
        "len(labels)"
      ],
      "metadata": {
        "colab": {
          "base_uri": "https://localhost:8080/"
        },
        "id": "t_CdwRH47KBJ",
        "outputId": "c950648c-fa48-4889-d663-f1aa9cd4e6cb"
      },
      "execution_count": 91,
      "outputs": [
        {
          "output_type": "execute_result",
          "data": {
            "text/plain": [
              "23350"
            ]
          },
          "metadata": {},
          "execution_count": 91
        }
      ]
    },
    {
      "cell_type": "code",
      "source": [
        "min_preds = svm.predict(features)\n",
        "print(len(min_preds))\n",
        "print(f\"Accuracy of SVM on LoadMinSupply: {round(accuracy_score(labels, min_preds), 2)*100}%\")"
      ],
      "metadata": {
        "colab": {
          "base_uri": "https://localhost:8080/"
        },
        "id": "Edqoad5M7X-K",
        "outputId": "99911c56-6ecf-483e-ed1e-09126a52d620"
      },
      "execution_count": 92,
      "outputs": [
        {
          "output_type": "stream",
          "name": "stdout",
          "text": [
            "23350\n",
            "Accuracy of SVM on LoadMinSupply: 25.0%\n"
          ]
        }
      ]
    }
  ]
}