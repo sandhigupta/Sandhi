{
  "nbformat": 4,
  "nbformat_minor": 0,
  "metadata": {
    "colab": {
      "name": "Untitled22.ipynb",
      "provenance": [],
      "collapsed_sections": [],
      "authorship_tag": "ABX9TyMOcAFHx9t2gI3YznrGXz5n",
      "include_colab_link": true
    },
    "kernelspec": {
      "name": "python3",
      "display_name": "Python 3"
    },
    "language_info": {
      "name": "python"
    }
  },
  "cells": [
    {
      "cell_type": "markdown",
      "metadata": {
        "id": "view-in-github",
        "colab_type": "text"
      },
      "source": [
        "<a href=\"https://colab.research.google.com/github/sandhigupta/Sandhi/blob/main/AI.ipynb\" target=\"_parent\"><img src=\"https://colab.research.google.com/assets/colab-badge.svg\" alt=\"Open In Colab\"/></a>"
      ]
    },
    {
      "cell_type": "code",
      "execution_count": null,
      "metadata": {
        "id": "cYv0O37Xv4Vs"
      },
      "outputs": [],
      "source": [
        "import numpy as np\n",
        "import pandas as pd\n",
        "import seaborn as sns\n",
        "import matplotlib.pyplot as plt\n",
        "import warnings\n",
        "warnings.filterwarnings('ignore')"
      ]
    },
    {
      "cell_type": "code",
      "source": [
        "amazon_data = pd.read_csv('amazon_stock_price.csv')"
      ],
      "metadata": {
        "id": "T2E5rPEqwD37"
      },
      "execution_count": null,
      "outputs": []
    },
    {
      "cell_type": "code",
      "source": [
        "amazon_data"
      ],
      "metadata": {
        "id": "4-4E_BKfwD6o"
      },
      "execution_count": null,
      "outputs": []
    },
    {
      "cell_type": "code",
      "source": [
        "amazon_data.head()"
      ],
      "metadata": {
        "id": "Lrw6cvXgwEAt"
      },
      "execution_count": null,
      "outputs": []
    },
    {
      "cell_type": "code",
      "source": [
        "amazon_data.tail()"
      ],
      "metadata": {
        "id": "9xf4qjM8wECc"
      },
      "execution_count": null,
      "outputs": []
    },
    {
      "cell_type": "code",
      "source": [
        "amazon_data.shape"
      ],
      "metadata": {
        "id": "enUbmDSMwEEh"
      },
      "execution_count": null,
      "outputs": []
    },
    {
      "cell_type": "code",
      "source": [
        "amazon_data.info()"
      ],
      "metadata": {
        "id": "QozCNu71wEG7"
      },
      "execution_count": null,
      "outputs": []
    },
    {
      "cell_type": "code",
      "source": [
        "amazon_data.describe()"
      ],
      "metadata": {
        "id": "GexsmmFAwEJT"
      },
      "execution_count": null,
      "outputs": []
    },
    {
      "cell_type": "code",
      "source": [
        "amazon_data.columns"
      ],
      "metadata": {
        "id": "C1c7dW_-wEM6"
      },
      "execution_count": null,
      "outputs": []
    },
    {
      "cell_type": "code",
      "source": [
        "amazon_data.isnull().sum()"
      ],
      "metadata": {
        "id": "zHjNmjQIwEYS"
      },
      "execution_count": null,
      "outputs": []
    },
    {
      "cell_type": "code",
      "source": [
        "amazon_data = amazon_data.drop(columns=['Adj Close'])"
      ],
      "metadata": {
        "id": "YCQlORphwa10"
      },
      "execution_count": null,
      "outputs": []
    },
    {
      "cell_type": "code",
      "source": [
        "amazon_data.head()"
      ],
      "metadata": {
        "id": "_wIPqcoXwa89"
      },
      "execution_count": null,
      "outputs": []
    },
    {
      "cell_type": "code",
      "source": [
        "fig, ax = plt.subplots(figsize=(20,8))\n",
        "ax.plot(amazon_data['Date'], amazon_data['Close'], color='Red')\n",
        "ax.xaxis.set_major_locator(plt.MaxNLocator(15))\n",
        "ax.set_xlabel('Date', fontsize = '11')\n",
        "ax.set_ylabel('Price in USD', fontsize='11')\n",
        "plt.title('Amazon Stock Prices')\n",
        "plt.grid()\n",
        "plt.show()"
      ],
      "metadata": {
        "id": "1kAxQ8xCwa-r"
      },
      "execution_count": null,
      "outputs": []
    },
    {
      "cell_type": "code",
      "source": [
        "fig, ax = plt.subplots(figsize=(20,8))\n",
        "ax.plot(amazon_data['Date'], amazon_data['Volume'])\n",
        "ax.xaxis.set_major_locator(plt.MaxNLocator(15))\n",
        "ax.set_xlabel('Date', fontsize = '11')\n",
        "ax.set_ylabel('Volumes', fontsize='11')\n",
        "plt.title('Volume Trends', fontsize='20')\n",
        "plt.grid()\n",
        "plt.show()"
      ],
      "metadata": {
        "id": "_-f248GAwbBP"
      },
      "execution_count": null,
      "outputs": []
    },
    {
      "cell_type": "code",
      "source": [
        "amazon_data['Market Cap'] = amazon_data['Open']*amazon_data['Volume']"
      ],
      "metadata": {
        "id": "VmAJZZAowbE5"
      },
      "execution_count": null,
      "outputs": []
    },
    {
      "cell_type": "code",
      "source": [
        "fig, ax = plt.subplots(figsize=(20,8))\n",
        "ax.plot(amazon_data['Date'], amazon_data['Market Cap'], color='Orange')\n",
        "ax.xaxis.set_major_locator(plt.MaxNLocator(15))\n",
        "ax.set_xlabel('Date', fontsize = '11')\n",
        "ax.set_ylabel('Maket Cap', fontsize='11')\n",
        "plt.title('Market Cap')\n",
        "plt.grid()\n",
        "plt.show()"
      ],
      "metadata": {
        "id": "nfMBa1g2wsWv"
      },
      "execution_count": null,
      "outputs": []
    },
    {
      "cell_type": "code",
      "source": [
        "amazon_data.iloc[amazon_data['Market Cap'].argmax()]"
      ],
      "metadata": {
        "id": "EGe4nLYHwsYa"
      },
      "execution_count": null,
      "outputs": []
    },
    {
      "cell_type": "code",
      "source": [
        "ohlc = amazon_data[(amazon_data['Date'] > '1997-05-15')]\n",
        "ohlc = ohlc.loc[:, ['Date','Open','High','Low','Close','Volume','Market Cap']]\n",
        "ohlc['Date'] = pd.to_datetime(ohlc['Date'], format='%d-%m-%Y')\n",
        "fig, ax = plt.subplots(figsize=(20,8))\n",
        "ax.plot(ohlc['Date'], ohlc['Market Cap'], color='orange')\n",
        "ax.xaxis.set_major_locator(plt.MaxNLocator(5))\n",
        "ax.set_xlabel('Date', fontsize='11')\n",
        "ax.set_ylabel('Market Cap', fontsize='11')\n",
        "plt.grid()\n",
        "plt.title('Market Cap (After 05 May, 1997)', fontsize='20')\n",
        "plt.show()"
      ],
      "metadata": {
        "id": "F10PGCAewsbt"
      },
      "execution_count": null,
      "outputs": []
    },
    {
      "cell_type": "code",
      "source": [
        "amazon_data['vol'] =  (amazon_data['Close']/amazon_data['Close'].shift(1)) - 1"
      ],
      "metadata": {
        "id": "PyJnSLQLwsk2"
      },
      "execution_count": null,
      "outputs": []
    },
    {
      "cell_type": "code",
      "source": [
        "fig, ax = plt.subplots(figsize=(20,8))\n",
        "ax.plot(amazon_data['Date'], amazon_data['Vol'], color='purple')\n",
        "ax.xaxis.set_major_locator(plt.MaxNLocator(15))\n",
        "plt.title('Volatility')\n",
        "plt.grid()\n",
        "plt.show()"
      ],
      "metadata": {
        "id": "uj7uCTw3w3L3"
      },
      "execution_count": null,
      "outputs": []
    },
    {
      "cell_type": "code",
      "source": [
        "amazon_data['vol'].hist(bins=100, color='orange');"
      ],
      "metadata": {
        "id": "qNeaXJfyw3On"
      },
      "execution_count": null,
      "outputs": []
    },
    {
      "cell_type": "code",
      "source": [
        "amazon_data['Cumulative Return'] = (1 + amazon_data['vol']).cumprod()"
      ],
      "metadata": {
        "id": "hwpdYmWdw3fd"
      },
      "execution_count": null,
      "outputs": []
    },
    {
      "cell_type": "code",
      "source": [
        "fig, ax = plt.subplots(figsize=(20,8))\n",
        "ax.plot(amazon_data['Date'], amazon_data['Cumulative Return'], color='green')\n",
        "ax.xaxis.set_major_locator(plt.MaxNLocator(15))\n",
        "ax.set_xlabel('Date', fontsize = '11')\n",
        "ax.set_ylabel('Cumulative Return', fontsize='11')\n",
        "plt.title('Cumulative Return')\n",
        "plt.grid()\n",
        "plt.show()"
      ],
      "metadata": {
        "id": "qC23W6hHw3hO"
      },
      "execution_count": null,
      "outputs": []
    },
    {
      "cell_type": "code",
      "source": [
        "ohlc = amazon_data[(amazon_data['Date'] > '1997-05-15')]\n",
        "ohlc = ohlc.loc[:, ['Date','Open','High','Low','Close','Volume','Market Cap','Cumulative Return']]\n",
        "ohlc['Date'] = pd.to_datetime(ohlc['Date'], format='%d-%m-%Y')\n",
        "fig, ax = plt.subplots(figsize=(20,8))\n",
        "ax.plot(ohlc['Date'], ohlc['Cumulative Return'], color='green')\n",
        "ax.xaxis.set_major_locator(plt.MaxNLocator(5))\n",
        "ax.set_xlabel('Date', fontsize='11')\n",
        "ax.set_ylabel('Cumulative Return', fontsize='11')\n",
        "plt.grid()\n",
        "plt.title('Cumulative Return (After 05 May, 1997)', fontsize='20')\n",
        "plt.show()"
      ],
      "metadata": {
        "id": "4LTjmjUlw3kH"
      },
      "execution_count": null,
      "outputs": []
    },
    {
      "cell_type": "code",
      "source": [
        "amazon_data.iloc[amazon_data['Cumulative Return'].argmax()]"
      ],
      "metadata": {
        "id": "FMd-bzbaw3no"
      },
      "execution_count": null,
      "outputs": []
    },
    {
      "cell_type": "code",
      "source": [
        "from sklearn.preprocessing import MinMaxScaler\n",
        "from keras.models import Sequential\n",
        "from keras.layers import Dense, LSTM\n",
        "import math"
      ],
      "metadata": {
        "id": "-fTv-WUww31H"
      },
      "execution_count": null,
      "outputs": []
    },
    {
      "cell_type": "code",
      "source": [
        "amazon_data['Date'] = pd.to_datetime(amazon_data['Date'])\n",
        "amazon_data.set_index('Date', inplace=True)"
      ],
      "metadata": {
        "id": "oCalK3kZxJ8Z"
      },
      "execution_count": null,
      "outputs": []
    },
    {
      "cell_type": "code",
      "source": [
        "data = amazon_data.filter(['Close'])\n",
        "dataset = data.values\n",
        "training_data_len = math.ceil(len(dataset)*.8)\n",
        "training_data_len"
      ],
      "metadata": {
        "id": "z_pBscbFxKEG"
      },
      "execution_count": null,
      "outputs": []
    },
    {
      "cell_type": "code",
      "source": [
        "scaler = MinMaxScaler(feature_range=(0,1))\n",
        "scaled_data = scaler.fit_transform(dataset)\n",
        "scaled_data"
      ],
      "metadata": {
        "id": "-1GJxug4xKG9"
      },
      "execution_count": null,
      "outputs": []
    },
    {
      "cell_type": "code",
      "source": [
        "train_data = scaled_data[0:training_data_len, :]\n",
        "x_train = []\n",
        "y_train = []\n",
        "for i in range(60,len(train_data)):\n",
        "    x_train.append(train_data[i-60:i, 0])\n",
        "    y_train.append(train_data[i,0])\n",
        "    if i<=60:\n",
        "        print(x_train)\n",
        "        print(y_train)\n",
        "        print()"
      ],
      "metadata": {
        "id": "ZJmzdmtpxKMD"
      },
      "execution_count": null,
      "outputs": []
    },
    {
      "cell_type": "code",
      "source": [
        "x_train,y_train = np.array(x_train), np.array(y_train)"
      ],
      "metadata": {
        "id": "eYB9kD9oxX7z"
      },
      "execution_count": null,
      "outputs": []
    },
    {
      "cell_type": "code",
      "source": [
        "x_train = np.reshape(x_train,(x_train.shape[0],x_train.shape[1],1))\n",
        "x_train.shape"
      ],
      "metadata": {
        "id": "QFBZaCwLxYdq"
      },
      "execution_count": null,
      "outputs": []
    },
    {
      "cell_type": "code",
      "source": [
        "model = Sequential()\n",
        "model.add(LSTM(64,return_sequences=True, input_shape=(x_train.shape[1],1)))\n",
        "model.add(LSTM(64,return_sequences=False))\n",
        "model.add(Dense(32))\n",
        "model.add(Dense(1))"
      ],
      "metadata": {
        "id": "E1rAOkkIxYmi"
      },
      "execution_count": null,
      "outputs": []
    },
    {
      "cell_type": "code",
      "source": [
        "model.compile(optimizer='adam', loss='mean_squared_error')"
      ],
      "metadata": {
        "id": "m9C21jiBxj_j"
      },
      "execution_count": null,
      "outputs": []
    },
    {
      "cell_type": "code",
      "source": [
        "model.fit(x_train,y_train, batch_size=1, epochs=10)"
      ],
      "metadata": {
        "colab": {
          "base_uri": "https://localhost:8080/"
        },
        "id": "3joojqb1xkBp",
        "outputId": "5f938a8c-d993-44c6-d1a0-1e50403525b2"
      },
      "execution_count": null,
      "outputs": [
        {
          "output_type": "stream",
          "name": "stdout",
          "text": [
            "Epoch 1/10\n",
            "4840/4840 [==============================] - 144s 29ms/step - loss: 5.5327e-05\n",
            "Epoch 2/10\n",
            "4840/4840 [==============================] - 142s 29ms/step - loss: 2.6454e-05\n",
            "Epoch 3/10\n",
            " 103/4840 [..............................] - ETA: 2:21 - loss: 6.8915e-06"
          ]
        }
      ]
    },
    {
      "cell_type": "code",
      "source": [
        "test_data= scaled_data[training_data_len-60:, :]\n",
        "x_test = []\n",
        "y_test = dataset[training_data_len:, :]\n",
        "for i in range(60,len(test_data)):\n",
        "    x_test.append(test_data[i-60:i,0])"
      ],
      "metadata": {
        "id": "496S6oINxkEu"
      },
      "execution_count": null,
      "outputs": []
    },
    {
      "cell_type": "code",
      "source": [
        "x_test = np.array(x_test)"
      ],
      "metadata": {
        "id": "UU9g7McPxq-8"
      },
      "execution_count": null,
      "outputs": []
    },
    {
      "cell_type": "code",
      "source": [
        "x_test = np.reshape(x_test, (x_test.shape[0], x_test.shape[1],1))\n",
        "x_test.shape"
      ],
      "metadata": {
        "id": "0Spm2yM8xrA3"
      },
      "execution_count": null,
      "outputs": []
    },
    {
      "cell_type": "code",
      "source": [
        "predictions = model.predict(x_test)\n",
        "predictions = scaler.inverse_transform(predictions)"
      ],
      "metadata": {
        "id": "3YLZAZvVxrEa"
      },
      "execution_count": null,
      "outputs": []
    },
    {
      "cell_type": "code",
      "source": [
        "rmse = np.sqrt(np.mean(predictions - y_test)**2)\n",
        "rmse"
      ],
      "metadata": {
        "id": "2qR7MN5Ex0aO"
      },
      "execution_count": null,
      "outputs": []
    },
    {
      "cell_type": "code",
      "source": [
        "train = data[:training_data_len]\n",
        "valid = data[training_data_len:]\n",
        "valid['Predictions'] = predictions\n",
        "plt.figure(figsize=(16,8))\n",
        "plt.title('Model')\n",
        "plt.xlabel('Date', fontsize=18)\n",
        "plt.ylabel('Close Price', fontsize=18)\n",
        "plt.plot(train['Close'], linewidth=3.5)\n",
        "plt.plot(valid[['Close','Predictions']], linewidth=3.5)\n",
        "plt.legend(['Train','Valid','Predictions'], loc='upper_center')"
      ],
      "metadata": {
        "id": "0HRJz-47x0cG"
      },
      "execution_count": null,
      "outputs": []
    },
    {
      "cell_type": "code",
      "source": [
        "valid"
      ],
      "metadata": {
        "id": "xIkw_oiOx0d6"
      },
      "execution_count": null,
      "outputs": []
    },
    {
      "cell_type": "code",
      "source": [
        "amazon_quote = pd.read_csv('amazon_stock_price.csv')\n",
        "new_amazon_data = amazon_quote.filter(['Close'])\n",
        "last_60_days = new_amazon_data[-60:].values\n",
        "last_60_days_scaled = scaler.transform(last_60_days)\n",
        "x_test = []\n",
        "x_test.append(last_60_days_scaled)\n",
        "x_test = np.array(x_test)\n",
        "x_test = np.reshape(x_test, (x_test.shape[0], x_test.shape[1],1))\n",
        "pred_price = model.predict(x_test)\n",
        "pred_price = scaler.inverse_transform(pred_price)\n",
        "pred_price"
      ],
      "metadata": {
        "id": "tD2z42J_x0f2"
      },
      "execution_count": null,
      "outputs": []
    }
  ]
}