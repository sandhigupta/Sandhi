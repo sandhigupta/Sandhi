{
  "nbformat": 4,
  "nbformat_minor": 0,
  "metadata": {
    "colab": {
      "name": "Untitled15.ipynb",
      "provenance": [],
      "collapsed_sections": [],
      "authorship_tag": "ABX9TyP3GW3m85Qo7GVozbCQujC7",
      "include_colab_link": true
    },
    "kernelspec": {
      "name": "python3",
      "display_name": "Python 3"
    },
    "language_info": {
      "name": "python"
    }
  },
  "cells": [
    {
      "cell_type": "markdown",
      "metadata": {
        "id": "view-in-github",
        "colab_type": "text"
      },
      "source": [
        "<a href=\"https://colab.research.google.com/github/sandhigupta/Sandhi/blob/main/fida.ipynb\" target=\"_parent\"><img src=\"https://colab.research.google.com/assets/colab-badge.svg\" alt=\"Open In Colab\"/></a>"
      ]
    },
    {
      "cell_type": "code",
      "execution_count": 1,
      "metadata": {
        "id": "ULp9ACliVn-V"
      },
      "outputs": [],
      "source": [
        "import pandas as pd\n",
        "import numpy as np\n",
        "import time\n",
        "from matplotlib import pyplot as plt\n",
        "from sklearn.model_selection import train_test_split\n",
        "from sklearn.metrics import accuracy_score\n",
        "from sklearn.neighbors import KNeighborsClassifier\n",
        "from sklearn.metrics import confusion_matrix\n",
        "from sklearn.metrics import plot_confusion_matrix"
      ]
    },
    {
      "cell_type": "code",
      "source": [
        "df = pd.read_csv(r'LoadMinPower.csv', sep=',', header=0)\n",
        "df.head(5)"
      ],
      "metadata": {
        "colab": {
          "base_uri": "https://localhost:8080/",
          "height": 206
        },
        "id": "G8SEdYguVsS6",
        "outputId": "3b6414eb-f69d-421c-8360-57d5c0d1c933"
      },
      "execution_count": 2,
      "outputs": [
        {
          "output_type": "execute_result",
          "data": {
            "text/plain": [
              "  Date (month/day/year)     Time         1          2         3         4  \\\n",
              "0              7/1/2012  0:00:00  0.586700  45.805173  1.381984  0.190083   \n",
              "1              7/1/2012  0:30:00  7.376893  42.177474  1.289851  0.209479   \n",
              "2              7/1/2012  1:00:00  6.781565  40.516599  1.289851  0.190083   \n",
              "3              7/1/2012  1:30:00  5.211279  59.398121  1.259141  0.203660   \n",
              "4              7/1/2012  2:00:00  4.693602   2.622434  1.289851  0.145472   \n",
              "\n",
              "          5         6         7         8         9        10        11  \n",
              "0  1.892434  1.210491  0.192630  0.013212  1.490395  0.994408  0.526979  \n",
              "1  0.773636  0.993516  0.256840  0.027524  0.042401  0.913134  0.535087  \n",
              "2  0.752808  1.119133  0.186456  0.024221  0.076322  0.841422  0.543194  \n",
              "3  0.535594  0.730862  0.113602  0.012111  0.019080  0.951380  0.421583  \n",
              "4  0.654615  1.016355  0.187691  0.025322  0.095402  0.784052  0.462120  "
            ],
            "text/html": [
              "\n",
              "  <div id=\"df-daa0e02f-bc95-4ea1-9376-c10063669973\">\n",
              "    <div class=\"colab-df-container\">\n",
              "      <div>\n",
              "<style scoped>\n",
              "    .dataframe tbody tr th:only-of-type {\n",
              "        vertical-align: middle;\n",
              "    }\n",
              "\n",
              "    .dataframe tbody tr th {\n",
              "        vertical-align: top;\n",
              "    }\n",
              "\n",
              "    .dataframe thead th {\n",
              "        text-align: right;\n",
              "    }\n",
              "</style>\n",
              "<table border=\"1\" class=\"dataframe\">\n",
              "  <thead>\n",
              "    <tr style=\"text-align: right;\">\n",
              "      <th></th>\n",
              "      <th>Date (month/day/year)</th>\n",
              "      <th>Time</th>\n",
              "      <th>1</th>\n",
              "      <th>2</th>\n",
              "      <th>3</th>\n",
              "      <th>4</th>\n",
              "      <th>5</th>\n",
              "      <th>6</th>\n",
              "      <th>7</th>\n",
              "      <th>8</th>\n",
              "      <th>9</th>\n",
              "      <th>10</th>\n",
              "      <th>11</th>\n",
              "    </tr>\n",
              "  </thead>\n",
              "  <tbody>\n",
              "    <tr>\n",
              "      <th>0</th>\n",
              "      <td>7/1/2012</td>\n",
              "      <td>0:00:00</td>\n",
              "      <td>0.586700</td>\n",
              "      <td>45.805173</td>\n",
              "      <td>1.381984</td>\n",
              "      <td>0.190083</td>\n",
              "      <td>1.892434</td>\n",
              "      <td>1.210491</td>\n",
              "      <td>0.192630</td>\n",
              "      <td>0.013212</td>\n",
              "      <td>1.490395</td>\n",
              "      <td>0.994408</td>\n",
              "      <td>0.526979</td>\n",
              "    </tr>\n",
              "    <tr>\n",
              "      <th>1</th>\n",
              "      <td>7/1/2012</td>\n",
              "      <td>0:30:00</td>\n",
              "      <td>7.376893</td>\n",
              "      <td>42.177474</td>\n",
              "      <td>1.289851</td>\n",
              "      <td>0.209479</td>\n",
              "      <td>0.773636</td>\n",
              "      <td>0.993516</td>\n",
              "      <td>0.256840</td>\n",
              "      <td>0.027524</td>\n",
              "      <td>0.042401</td>\n",
              "      <td>0.913134</td>\n",
              "      <td>0.535087</td>\n",
              "    </tr>\n",
              "    <tr>\n",
              "      <th>2</th>\n",
              "      <td>7/1/2012</td>\n",
              "      <td>1:00:00</td>\n",
              "      <td>6.781565</td>\n",
              "      <td>40.516599</td>\n",
              "      <td>1.289851</td>\n",
              "      <td>0.190083</td>\n",
              "      <td>0.752808</td>\n",
              "      <td>1.119133</td>\n",
              "      <td>0.186456</td>\n",
              "      <td>0.024221</td>\n",
              "      <td>0.076322</td>\n",
              "      <td>0.841422</td>\n",
              "      <td>0.543194</td>\n",
              "    </tr>\n",
              "    <tr>\n",
              "      <th>3</th>\n",
              "      <td>7/1/2012</td>\n",
              "      <td>1:30:00</td>\n",
              "      <td>5.211279</td>\n",
              "      <td>59.398121</td>\n",
              "      <td>1.259141</td>\n",
              "      <td>0.203660</td>\n",
              "      <td>0.535594</td>\n",
              "      <td>0.730862</td>\n",
              "      <td>0.113602</td>\n",
              "      <td>0.012111</td>\n",
              "      <td>0.019080</td>\n",
              "      <td>0.951380</td>\n",
              "      <td>0.421583</td>\n",
              "    </tr>\n",
              "    <tr>\n",
              "      <th>4</th>\n",
              "      <td>7/1/2012</td>\n",
              "      <td>2:00:00</td>\n",
              "      <td>4.693602</td>\n",
              "      <td>2.622434</td>\n",
              "      <td>1.289851</td>\n",
              "      <td>0.145472</td>\n",
              "      <td>0.654615</td>\n",
              "      <td>1.016355</td>\n",
              "      <td>0.187691</td>\n",
              "      <td>0.025322</td>\n",
              "      <td>0.095402</td>\n",
              "      <td>0.784052</td>\n",
              "      <td>0.462120</td>\n",
              "    </tr>\n",
              "  </tbody>\n",
              "</table>\n",
              "</div>\n",
              "      <button class=\"colab-df-convert\" onclick=\"convertToInteractive('df-daa0e02f-bc95-4ea1-9376-c10063669973')\"\n",
              "              title=\"Convert this dataframe to an interactive table.\"\n",
              "              style=\"display:none;\">\n",
              "        \n",
              "  <svg xmlns=\"http://www.w3.org/2000/svg\" height=\"24px\"viewBox=\"0 0 24 24\"\n",
              "       width=\"24px\">\n",
              "    <path d=\"M0 0h24v24H0V0z\" fill=\"none\"/>\n",
              "    <path d=\"M18.56 5.44l.94 2.06.94-2.06 2.06-.94-2.06-.94-.94-2.06-.94 2.06-2.06.94zm-11 1L8.5 8.5l.94-2.06 2.06-.94-2.06-.94L8.5 2.5l-.94 2.06-2.06.94zm10 10l.94 2.06.94-2.06 2.06-.94-2.06-.94-.94-2.06-.94 2.06-2.06.94z\"/><path d=\"M17.41 7.96l-1.37-1.37c-.4-.4-.92-.59-1.43-.59-.52 0-1.04.2-1.43.59L10.3 9.45l-7.72 7.72c-.78.78-.78 2.05 0 2.83L4 21.41c.39.39.9.59 1.41.59.51 0 1.02-.2 1.41-.59l7.78-7.78 2.81-2.81c.8-.78.8-2.07 0-2.86zM5.41 20L4 18.59l7.72-7.72 1.47 1.35L5.41 20z\"/>\n",
              "  </svg>\n",
              "      </button>\n",
              "      \n",
              "  <style>\n",
              "    .colab-df-container {\n",
              "      display:flex;\n",
              "      flex-wrap:wrap;\n",
              "      gap: 12px;\n",
              "    }\n",
              "\n",
              "    .colab-df-convert {\n",
              "      background-color: #E8F0FE;\n",
              "      border: none;\n",
              "      border-radius: 50%;\n",
              "      cursor: pointer;\n",
              "      display: none;\n",
              "      fill: #1967D2;\n",
              "      height: 32px;\n",
              "      padding: 0 0 0 0;\n",
              "      width: 32px;\n",
              "    }\n",
              "\n",
              "    .colab-df-convert:hover {\n",
              "      background-color: #E2EBFA;\n",
              "      box-shadow: 0px 1px 2px rgba(60, 64, 67, 0.3), 0px 1px 3px 1px rgba(60, 64, 67, 0.15);\n",
              "      fill: #174EA6;\n",
              "    }\n",
              "\n",
              "    [theme=dark] .colab-df-convert {\n",
              "      background-color: #3B4455;\n",
              "      fill: #D2E3FC;\n",
              "    }\n",
              "\n",
              "    [theme=dark] .colab-df-convert:hover {\n",
              "      background-color: #434B5C;\n",
              "      box-shadow: 0px 1px 3px 1px rgba(0, 0, 0, 0.15);\n",
              "      filter: drop-shadow(0px 1px 2px rgba(0, 0, 0, 0.3));\n",
              "      fill: #FFFFFF;\n",
              "    }\n",
              "  </style>\n",
              "\n",
              "      <script>\n",
              "        const buttonEl =\n",
              "          document.querySelector('#df-daa0e02f-bc95-4ea1-9376-c10063669973 button.colab-df-convert');\n",
              "        buttonEl.style.display =\n",
              "          google.colab.kernel.accessAllowed ? 'block' : 'none';\n",
              "\n",
              "        async function convertToInteractive(key) {\n",
              "          const element = document.querySelector('#df-daa0e02f-bc95-4ea1-9376-c10063669973');\n",
              "          const dataTable =\n",
              "            await google.colab.kernel.invokeFunction('convertToInteractive',\n",
              "                                                     [key], {});\n",
              "          if (!dataTable) return;\n",
              "\n",
              "          const docLinkHtml = 'Like what you see? Visit the ' +\n",
              "            '<a target=\"_blank\" href=https://colab.research.google.com/notebooks/data_table.ipynb>data table notebook</a>'\n",
              "            + ' to learn more about interactive tables.';\n",
              "          element.innerHTML = '';\n",
              "          dataTable['output_type'] = 'display_data';\n",
              "          await google.colab.output.renderOutput(dataTable, element);\n",
              "          const docLink = document.createElement('div');\n",
              "          docLink.innerHTML = docLinkHtml;\n",
              "          element.appendChild(docLink);\n",
              "        }\n",
              "      </script>\n",
              "    </div>\n",
              "  </div>\n",
              "  "
            ]
          },
          "metadata": {},
          "execution_count": 2
        }
      ]
    },
    {
      "cell_type": "code",
      "source": [
        "col_means = [np.array(df.get([f'{i}'])).mean() for i in range(1, 12)]\n",
        "print(f\" Means for all columns in the data set: \\n{col_means}\")"
      ],
      "metadata": {
        "colab": {
          "base_uri": "https://localhost:8080/"
        },
        "id": "d-HIdcc4VsUx",
        "outputId": "b097a337-4ef2-4adb-b7d0-81f9934c0ab9"
      },
      "execution_count": 3,
      "outputs": [
        {
          "output_type": "stream",
          "name": "stdout",
          "text": [
            " Means for all columns in the data set: \n",
            "[2.6001453967446917, 4.860338390023402, 3.0818954532995435, 0.44231668384223743, 1.4445030776017693, 2.1517111577197485, 0.6008603246534246, 0.13592625371461187, 0.3460468516870434, 1.251038135477283, 0.9596871191652397]\n"
          ]
        }
      ]
    },
    {
      "cell_type": "code",
      "source": [
        "col_vars = [np.array(df.get([f'{i}'])).var() for i in range(1, 12)]\n",
        "print(f\" Variance for all columns in the data set: \\n{col_vars}\")"
      ],
      "metadata": {
        "colab": {
          "base_uri": "https://localhost:8080/"
        },
        "id": "h292HmfWVsW-",
        "outputId": "0cd15317-5220-4506-a9ae-7a1faa5d3114"
      },
      "execution_count": 4,
      "outputs": [
        {
          "output_type": "stream",
          "name": "stdout",
          "text": [
            " Variance for all columns in the data set: \n",
            "[7.1065135017116745, 64.14666762177022, 14.020998533068777, 0.30758108590942007, 0.9221125416438508, 5.187758988775928, 0.43672129112649516, 0.0891253556427413, 0.24543952283353931, 1.8664821652639871, 0.8900130171340858]\n"
          ]
        }
      ]
    },
    {
      "cell_type": "code",
      "source": [
        "initial_data = df.copy()"
      ],
      "metadata": {
        "id": "bXAdQUb7VsY3"
      },
      "execution_count": 5,
      "outputs": []
    },
    {
      "cell_type": "code",
      "source": [
        "def inject(data, mean, std):\n",
        "  features = [list(i) for i in data[0]]\n",
        "  labels = list(data[1])\n",
        "  for i in range(len(features)):\n",
        "    if np.random.random() < 0.3333:\n",
        "      values_to_inject = np.random.normal(mean, std, len(features[0]))\n",
        "      features[i] = [a - b for a, b in zip(features[i], values_to_inject)]\n",
        "      labels[i] += 1\n",
        "      return (np.array(features), np.array(labels))"
      ],
      "metadata": {
        "id": "pCY3ZREJVscd"
      },
      "execution_count": 6,
      "outputs": []
    },
    {
      "cell_type": "code",
      "source": [
        "initial_data.drop(initial_data.columns[[0,1]], axis=1, inplace=True)\n",
        "injection = inject((initial_data.to_numpy(), [0 for i in range(len(initial_data))]), 2, 0.1)\n",
        "features, labels = injection[0], injection[1]"
      ],
      "metadata": {
        "id": "hSREvwVmVsrX"
      },
      "execution_count": 7,
      "outputs": []
    },
    {
      "cell_type": "code",
      "source": [
        "np.savetxt('features.csv', features, delimiter=',')\n",
        "np.savetxt('labels.csv', labels, delimiter=',')\n",
        "features = np.array(pd.read_csv('features.csv'))\n",
        "labels = np.array(pd.read_csv('labels.csv')).astype(int)"
      ],
      "metadata": {
        "id": "td3UZEV5Y1e6"
      },
      "execution_count": 8,
      "outputs": []
    },
    {
      "cell_type": "code",
      "source": [
        "y = np.array([i[0] for i in features][:100])\n",
        "y2 = np.array([i[4] for i in features][:100])\n",
        "y3 = np.array([i[10] for i in features][:100])\n",
        "print(f\" Sensor 1 Mean: {y.mean()}, Variance: {y.var()}\")\n",
        "print(f\" Sensor 5 Mean: {y2.mean()}, Variance: {y2.var()}\")\n",
        "print(f\" Sensor 11 Mean: {y3.mean()}, Variance: {y3.var()}\")"
      ],
      "metadata": {
        "colab": {
          "base_uri": "https://localhost:8080/"
        },
        "id": "eG9jeLxFVss5",
        "outputId": "f2c34b35-1cbf-4b7f-8619-b64e37c5f48c"
      },
      "execution_count": 9,
      "outputs": [
        {
          "output_type": "stream",
          "name": "stdout",
          "text": [
            " Sensor 1 Mean: 2.6350606010199997, Variance: 5.238611830426904\n",
            " Sensor 5 Mean: 1.84667031227, Variance: 1.674500459364032\n",
            " Sensor 11 Mean: 0.9214029201199999, Variance: 0.4467296837693359\n"
          ]
        }
      ]
    },
    {
      "cell_type": "code",
      "source": [
        "x = np.arange(0, len(y))\n",
        "plt.figure(figsize=(8,6))\n",
        "plt.xlabel('Reading No.',fontsize=14)\n",
        "plt.ylabel('Sensor Reading',fontsize=14)\n",
        "plt.title('Sensor Readings After FDIA',fontsize=16)\n",
        "plt.plot(x,y,label='Sensor 1')\n",
        "plt.plot(y2, label = 'Sensor 5')\n",
        "plt.plot(y3, label = 'Sensor 11')\n",
        "plt.legend(loc='upper right')\n",
        "plt.savefig('LoadMinSensorsafterFDIA')\n",
        "plt.show()"
      ],
      "metadata": {
        "colab": {
          "base_uri": "https://localhost:8080/",
          "height": 410
        },
        "id": "IUDtfg1cVsu3",
        "outputId": "589f95be-47e3-4642-9be6-77780bcbc7b4"
      },
      "execution_count": 10,
      "outputs": [
        {
          "output_type": "display_data",
          "data": {
            "text/plain": [
              "<Figure size 576x432 with 1 Axes>"
            ],
            "image/png": "[encoded data removed]"
          },
          "metadata": {
            "needs_background": "light"
          }
        }
      ]
    },
    {
      "cell_type": "code",
      "source": [
        "def generateDataSet(num_features, readings):\n",
        "  data_set = []\n",
        "  for i in range(num_features):\n",
        "    thresh = np.random.random()\n",
        "    if thresh < 0.26:\n",
        "      data_set.append(list(np.random.normal(20, 2, readings)))\n",
        "    elif 0.51 > thresh >= 0.26:\n",
        "      data_set.append(list(np.random.exponential(10, readings)))\n",
        "    elif 0.76 > thresh >= 0.51:\n",
        "      data_set.append(list(np.random.random(readings)))\n",
        "    else:\n",
        "      data_set.append(list(np.random.beta(5, 4, readings)))\n",
        "  return (np.array(data_set).transpose(), np.array([0 for i in range(readings)]))"
      ],
      "metadata": {
        "id": "P83-3zj5X6-k"
      },
      "execution_count": 11,
      "outputs": []
    },
    {
      "cell_type": "code",
      "source": [
        "fdia_data = inject(generateDataSet(11, 10000), 0.5, 0.05)"
      ],
      "metadata": {
        "id": "ZrJf0UYpaVJB"
      },
      "execution_count": 12,
      "outputs": []
    },
    {
      "cell_type": "code",
      "source": [
        "X_train, X_test, y_train, y_test = train_test_split(fdia_data[0], fdia_data[1], test_size=0.3, random_state=5, shuffle=True)\n"
      ],
      "metadata": {
        "id": "EHn0c2TqYcfG"
      },
      "execution_count": 13,
      "outputs": []
    },
    {
      "cell_type": "code",
      "source": [
        "X_train, X_test, y_train, y_test = train_test_split(features, labels, test_size=0.3, random_state=1, shuffle=True)"
      ],
      "metadata": {
        "id": "UW6zmkP-Vsyr"
      },
      "execution_count": 14,
      "outputs": []
    },
    {
      "cell_type": "code",
      "source": [
        "knn_model = KNeighborsClassifier()\n",
        "knn_model.fit(X_train, y_train.ravel())"
      ],
      "metadata": {
        "colab": {
          "base_uri": "https://localhost:8080/"
        },
        "id": "vLwHYFRSVs6e",
        "outputId": "abc08a66-0bb2-4cc2-eb8b-0dcd87399895"
      },
      "execution_count": 15,
      "outputs": [
        {
          "output_type": "execute_result",
          "data": {
            "text/plain": [
              "KNeighborsClassifier()"
            ]
          },
          "metadata": {},
          "execution_count": 15
        }
      ]
    },
    {
      "cell_type": "code",
      "source": [
        "knn_predictions = knn_model.predict(X_test)\n",
        "print(f\"Accuracy of KNN: {round(accuracy_score(y_test, knn_predictions)*100)}%\")"
      ],
      "metadata": {
        "colab": {
          "base_uri": "https://localhost:8080/"
        },
        "id": "GOvlMvBKXPE7",
        "outputId": "2d033697-598c-495f-9a13-f7d657da8f20"
      },
      "execution_count": 16,
      "outputs": [
        {
          "output_type": "stream",
          "name": "stdout",
          "text": [
            "Accuracy of KNN: 100%\n"
          ]
        }
      ]
    },
    {
      "cell_type": "code",
      "source": [
        "df = pd.read_csv(r'LoadMaxPower.csv')\n",
        "\n",
        "df.drop(df.columns[[0,1]], axis=1, inplace=True)\n",
        "injection = inject((df.to_numpy(), [0 for i in range(len(df))]), 5, 0.5)\n",
        "features, labels = injection[0], injection[1]"
      ],
      "metadata": {
        "id": "XZ1o63nPVs8L"
      },
      "execution_count": 17,
      "outputs": []
    },
    {
      "cell_type": "code",
      "source": [
        "np.savetxt('max_features.csv', features, delimiter=',')\n",
        "np.savetxt('max_labels.csv', labels, delimiter=',')\n",
        "max_features = np.array(pd.read_csv('max_features.csv'))\n",
        "max_labels = np.array(pd.read_csv('max_labels.csv')).astype(int)"
      ],
      "metadata": {
        "id": "oEze4NqlVs_5"
      },
      "execution_count": 18,
      "outputs": []
    },
    {
      "cell_type": "code",
      "source": [
        "knn_pred = knn_model.predict(max_features)\n",
        "print(f\" KNN: {accuracy_score(max_labels, knn_pred)}\")\n",
        "\n",
        "tn, fp, fn, tp = confusion_matrix(max_labels, knn_pred).ravel()\n",
        "print(f\"TN: {tn}, FP: {fp}, FN: {fn}, TP: {tp}\")"
      ],
      "metadata": {
        "colab": {
          "base_uri": "https://localhost:8080/"
        },
        "id": "W7OuDgMPZGhe",
        "outputId": "6374ed4d-f44e-4ac2-9b81-ac632eb9a308"
      },
      "execution_count": 19,
      "outputs": [
        {
          "output_type": "stream",
          "name": "stdout",
          "text": [
            " KNN: 0.9999429191163879\n",
            "TN: 17518, FP: 0, FN: 1, TP: 0\n"
          ]
        }
      ]
    },
    {
      "cell_type": "code",
      "source": [
        "max_features_re = max_features.copy().reshape(len(max_features), 11, 1)"
      ],
      "metadata": {
        "id": "QazC9h6yatO_"
      },
      "execution_count": 20,
      "outputs": []
    },
    {
      "cell_type": "code",
      "source": [
        "confusion_matrix(max_labels, knn_pred)"
      ],
      "metadata": {
        "id": "iXbl9nAjQNU3",
        "outputId": "36424df7-bc0a-4a7c-a8a4-c5ef54e509cc",
        "colab": {
          "base_uri": "https://localhost:8080/"
        }
      },
      "execution_count": 21,
      "outputs": [
        {
          "output_type": "execute_result",
          "data": {
            "text/plain": [
              "array([[17518,     0],\n",
              "       [    1,     0]])"
            ]
          },
          "metadata": {},
          "execution_count": 21
        }
      ]
    },
    {
      "cell_type": "code",
      "source": [
        "matrix = plot_confusion_matrix(knn_model, max_features, max_labels)\n",
        "matrix.ax_.set_title('Confusion Matrix', color='black')\n",
        "plt.xlabel('Predicted label', color='black')\n",
        "plt.ylabel('True label',color='black')\n",
        "plt.gcf().axes[0].tick_params(colors='black')\n",
        "plt.gcf().axes[1].tick_params(colors='black')\n",
        "plt.gcf().set_size_inches(10,6)\n",
        "plt.show()"
      ],
      "metadata": {
        "id": "u5U9EI-JQPbJ",
        "outputId": "f6646194-505a-4033-bac4-2f1598fcc965",
        "colab": {
          "base_uri": "https://localhost:8080/",
          "height": 459
        }
      },
      "execution_count": 24,
      "outputs": [
        {
          "output_type": "stream",
          "name": "stderr",
          "text": [
            "/usr/local/lib/python3.7/dist-packages/sklearn/utils/deprecation.py:87: FutureWarning: Function plot_confusion_matrix is deprecated; Function `plot_confusion_matrix` is deprecated in 1.0 and will be removed in 1.2. Use one of the class methods: ConfusionMatrixDisplay.from_predictions or ConfusionMatrixDisplay.from_estimator.\n",
            "  warnings.warn(msg, category=FutureWarning)\n"
          ]
        },
        {
          "output_type": "display_data",
          "data": {
            "text/plain": [
              "<Figure size 720x432 with 2 Axes>"
            ],
            "image/png": "[encoded data removed]"
          },
          "metadata": {
            "needs_background": "light"
          }
        }
      ]
    }
  ]
}